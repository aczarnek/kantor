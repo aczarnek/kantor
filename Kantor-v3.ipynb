{
 "cells": [
  {
   "cell_type": "code",
   "execution_count": 1,
   "metadata": {},
   "outputs": [
    {
     "data": {
      "text/plain": [
       "['USD',\n",
       " 'AUD',\n",
       " 'CAD',\n",
       " 'EUR',\n",
       " 'HUF',\n",
       " 'CHF',\n",
       " 'GBP',\n",
       " 'JPY',\n",
       " 'CZK',\n",
       " 'DKK',\n",
       " 'NOK',\n",
       " 'SEK',\n",
       " 'XDR']"
      ]
     },
     "execution_count": 1,
     "metadata": {},
     "output_type": "execute_result"
    }
   ],
   "source": [
    "#część 1. Lista dostępnych walut\n",
    "\n",
    "import requests\n",
    "import json\n",
    "\n",
    "r=requests.get('http://api.nbp.pl/api/exchangerates/tables/c/?format=json') \n",
    "listajson = r.json()\n",
    "slownik = listajson[0]\n",
    "waluty = slownik['rates'] \n",
    "\n",
    "\n",
    "def wylistuj_dostepne_waluty():\n",
    "    kody_walut=[]\n",
    "    for waluta in waluty:\n",
    "        kod_waluty = waluta['code']\n",
    "        kody_walut.append(kod_waluty)\n",
    "    return kody_walut\n",
    "  \n",
    "\n",
    "wylistuj_dostepne_waluty()  "
   ]
  },
  {
   "cell_type": "code",
   "execution_count": 2,
   "metadata": {},
   "outputs": [
    {
     "name": "stdout",
     "output_type": "stream",
     "text": [
      "0.7\n"
     ]
    }
   ],
   "source": [
    "#część 2. Funkcje zakupu i sprzedaży walut\n",
    "\n",
    "from IPython.display import clear_output\n",
    "\n",
    "def kup_walute(waluta, kwota): \n",
    "    for kod_wal in waluty:\n",
    "        if kod_wal['code']==waluta:\n",
    "            ask = kod_wal['ask'] \n",
    "            wynik = round(ask * pole_wartosc.value,2) \n",
    "            print(wynik)  \n",
    "            return wynik\n",
    "        clear_output(wait=True)                  \n",
    "                    \n",
    "                    \n",
    "def sprzedaj_walute(waluta, kwota):\n",
    "    for kod_wal in waluty:\n",
    "        if kod_wal['code']==waluta:\n",
    "            bid = kod_wal['bid']\n",
    "            wynik = round(bid *pole_wartosc.value,2)\n",
    "            print(wynik)  \n",
    "            return wynik\n",
    "        clear_output(wait=True) \n",
    "                    \n",
    "                    \n",
    "                    \n",
    "#guziki i pola do wpisywania/wybierania wartości\n",
    "\n",
    "import ipywidgets as wg\n",
    "from IPython.display import display\n",
    "\n",
    "\n",
    "kupno_sprzedaz_btn = wg.Dropdown(options={'Kupno': 1, 'Sprzedaż': 2}, value=2, description='Kupno/Sprzedaż:') \n",
    "display(kupno_sprzedaz_btn)\n",
    "\n",
    "wybor_waluty = wg.Dropdown(options=wylistuj_dostepne_waluty(),\n",
    "    description='Waluta:',\n",
    ")\n",
    "\n",
    "display(wybor_waluty)\n",
    "\n",
    "pole_wartosc = wg.FloatText(value = 0, description='Kwota')\n",
    "display(pole_wartosc)\n",
    "\n",
    "oblicz_btn = wg.Button(description=\"Oblicz\", button_style='success', icon='calculator') \n",
    "display(oblicz_btn)\n",
    "\n",
    "def wykonaj_na_klik(x): \n",
    "    lista = str(pole_wartosc.value).split('.') \n",
    "    if len(lista[1])<=2:\n",
    "        \n",
    "        if kupno_sprzedaz_btn.value == 2:     \n",
    "            sprzedaj_walute(wybor_waluty.value,pole_wartosc.value)       \n",
    "\n",
    "        else:     \n",
    "            kup_walute(wybor_waluty.value, pole_wartosc.value)\n",
    "    else:\n",
    "        print(\"Podano złą kwotę. Kwota powinna zawierać maksymalnie dwa miejsca po przecinku\")\n",
    "    clear_output(wait=True) \n",
    "\n",
    "\n",
    "oblicz_btn.on_click(wykonaj_na_klik)\n"
   ]
  },
  {
   "cell_type": "code",
   "execution_count": 3,
   "metadata": {},
   "outputs": [
    {
     "data": {
      "application/vnd.jupyter.widget-view+json": {
       "model_id": "9dfbf4677da841e78ab6e32c9ee3d63f"
      }
     },
     "metadata": {},
     "output_type": "display_data"
    },
    {
     "name": "stdout",
     "output_type": "stream",
     "text": [
      "2017-08-24 HUF 0.014028 0.014312\n",
      "2017-08-25 HUF 0.013882 0.014162\n",
      "2017-08-28 HUF 0.01381 0.014088\n",
      "2017-08-29 HUF 0.013837 0.014117\n",
      "2017-08-30 HUF 0.013837 0.014117\n",
      "2017-08-31 HUF 0.013786 0.014064\n",
      "2017-09-01 HUF 0.013776 0.014054\n",
      "2017-09-04 HUF 0.013779 0.014057\n",
      "2017-09-05 HUF 0.013714 0.013992\n",
      "2017-09-06 HUF 0.013707 0.013983\n"
     ]
    },
    {
     "data": {
      "image/png": "[encoded data removed]",
      "text/plain": [
       "<matplotlib.figure.Figure at 0xa94a5022b0>"
      ]
     },
     "metadata": {},
     "output_type": "display_data"
    }
   ],
   "source": [
    "#część 3 dodatkowa funkcjonalność - historia kursów z ostatnich 10 dni.\n",
    "import datetime as dt\n",
    "sprawdz_btn = wg.Button(description=\"Sprawdź\", button_style='info', icon='fa-line-chart') \n",
    "display(sprawdz_btn)\n",
    "\n",
    "\n",
    "def klik_sprawdz(x):  \n",
    "   \n",
    "    kursy_10dni=requests.get('http://api.nbp.pl/api/exchangerates/tables/c/last/10/?format=json')\n",
    "    kursy_10dni_json = kursy_10dni.json()\n",
    "    \n",
    "    lista_dat=[]\n",
    "    lista_kursow_bid=[]\n",
    "    lista_kursow_ask=[]\n",
    "    \n",
    "    for i in kursy_10dni_json:\n",
    "\n",
    "        data=i['effectiveDate']\n",
    "        data2 = dt.datetime.strptime(data, '%Y-%m-%d')\n",
    "        data_kursu=data2.date()\n",
    "    \n",
    "       \n",
    "        for kod in i['rates']:\n",
    "            if wybor_waluty.value==kod['code']:\n",
    "                \n",
    "                lista_dat.append(data_kursu)\n",
    "                lista_kursow_bid.append(kod['bid'])\n",
    "                lista_kursow_ask.append(kod['ask'])\n",
    "                \n",
    "                print(data_kursu, wybor_waluty.value, kod['bid'], kod['ask'])\n",
    "    \n",
    "\n",
    "\n",
    "                             \n",
    "    import matplotlib.pyplot as plt\n",
    "    import numpy as np  \n",
    "    \n",
    "    x=lista_dat\n",
    "    y=lista_kursow_bid\n",
    "    z=lista_kursow_ask\n",
    "    \n",
    "    plt.xticks(x, lista_dat, rotation=45)\n",
    "    plt.plot(x,y)\n",
    "    plt.plot(x,z)\n",
    "    plt.show()\n",
    "               \n",
    "    \n",
    "    clear_output(wait=True)         \n",
    "            \n",
    "\n",
    "sprawdz_btn.on_click(klik_sprawdz)   "
   ]
  },
  {
   "cell_type": "code",
   "execution_count": null,
   "metadata": {
    "collapsed": true
   },
   "outputs": [],
   "source": []
  }
 ],
 "metadata": {
  "kernelspec": {
   "display_name": "Python 3",
   "language": "python",
   "name": "python3"
  },
  "language_info": {
   "codemirror_mode": {
    "name": "ipython",
    "version": 3
   },
   "file_extension": ".py",
   "mimetype": "text/x-python",
   "name": "python",
   "nbconvert_exporter": "python",
   "pygments_lexer": "ipython3",
   "version": "3.6.1"
  }
 },
 "nbformat": 4,
 "nbformat_minor": 2
}
